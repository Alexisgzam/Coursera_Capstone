{
 "cells": [
  {
   "cell_type": "markdown",
   "metadata": {},
   "source": [
    "# Introduction/Business Problem"
   ]
  },
  {
   "cell_type": "markdown",
   "metadata": {},
   "source": [
    "In my country, unfortunately, insecurity and violence have been increasing in recent years for various circumstances. For this reason many businesses have found themselves in need of closing or moving out of state.\n",
    "\n",
    "That said, let's move on to the problem approach.\n",
    "\n",
    "Suppose that a person, who owns a dive center, is in a tourist city that has had a great increase in insecurity. This person has seen in the NISG (National Institute of Statistics and Geography) that one of the States with the lowest rate of insecurity in the country is the State of Colima and has decided to move there. But he doesn't know in which city of the state of Colima open his diving business.\n",
    "\n",
    "One solution to this problem would be: to find which cities in Colima have tourism activity related to the diving business? For this we will use the information provided by Foursquare, since, from the cities of the State of Colima we can identify which are the most popular places and based on that information create clusters with the Clustering-k-means procedure and see which cities are similar, what type of trade is the one that develops the most, and can infer, in a better way, where it is more advisable to start a Diving Business.\n",
    "\n",
    "This type of problem turns out to be very common out there, since there are many people who seek to move from their respective cities for several reasons and need to find cities where their businesses can thrive.\n",
    "\n",
    "More specifically, the solution I propose is aimed to those people who are looking to move or grow their business and need to know if the city or state , that they have in mind, is ideal for their business to thrive. \n"
   ]
  }
 ],
 "metadata": {
  "kernelspec": {
   "display_name": "Python",
   "language": "python",
   "name": "conda-env-python-py"
  },
  "language_info": {
   "codemirror_mode": {
    "name": "ipython",
    "version": 3
   },
   "file_extension": ".py",
   "mimetype": "text/x-python",
   "name": "python",
   "nbconvert_exporter": "python",
   "pygments_lexer": "ipython3",
   "version": "3.6.7"
  }
 },
 "nbformat": 4,
 "nbformat_minor": 4
}
